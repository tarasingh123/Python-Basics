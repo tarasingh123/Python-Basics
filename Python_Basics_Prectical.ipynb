{
  "nbformat": 4,
  "nbformat_minor": 0,
  "metadata": {
    "colab": {
      "provenance": []
    },
    "kernelspec": {
      "name": "python3",
      "display_name": "Python 3"
    },
    "language_info": {
      "name": "python"
    }
  },
  "cells": [
    {
      "cell_type": "markdown",
      "source": [
        "# Python Basics Code"
      ],
      "metadata": {
        "id": "ezyMCfZjMX1J"
      }
    },
    {
      "cell_type": "markdown",
      "source": [
        "1. Write a Python program to print \"Hello, World!_"
      ],
      "metadata": {
        "id": "VfoWVyBxMzzI"
      }
    },
    {
      "cell_type": "code",
      "source": [
        "print(\"Hello World!\")"
      ],
      "metadata": {
        "colab": {
          "base_uri": "https://localhost:8080/"
        },
        "id": "tsvY5m2cNFII",
        "outputId": "d5f7e9d2-76da-4834-8df8-9c635b9716be"
      },
      "execution_count": null,
      "outputs": [
        {
          "output_type": "stream",
          "name": "stdout",
          "text": [
            "Hello World!\n"
          ]
        }
      ]
    },
    {
      "cell_type": "markdown",
      "source": [
        "  2. Write a Python program that displays your name and age"
      ],
      "metadata": {
        "id": "19bC0oCLNie1"
      }
    },
    {
      "cell_type": "code",
      "source": [
        "name =\"Tara Singh\"\n",
        "age  = 26\n",
        "\n",
        "print(\"My name is\",name)\n",
        "print(\"I am\",age,\"year old\")"
      ],
      "metadata": {
        "colab": {
          "base_uri": "https://localhost:8080/"
        },
        "id": "er5t5NTFOpoo",
        "outputId": "310f3753-a03d-40a8-8870-8f134703017c"
      },
      "execution_count": null,
      "outputs": [
        {
          "output_type": "stream",
          "name": "stdout",
          "text": [
            "My name is Tara Singh\n",
            "I am 26 year old\n"
          ]
        }
      ]
    },
    {
      "cell_type": "markdown",
      "source": [
        "3.  Write code to print all the pre-defined keywords in Python using the keyword library0"
      ],
      "metadata": {
        "id": "_owGlir3QdEN"
      }
    },
    {
      "cell_type": "code",
      "source": [
        "#import the kyword module\n",
        "import keyword\n",
        "#print all prdefine keywords\n",
        "print(\"List of all predefine keywords in python:\")\n",
        "print(keyword.kwlist)\n",
        "\n",
        "#print the total number of keywords\n",
        "print(\"\\nTotal number of keywords:\", len(keyword.kwlist))"
      ],
      "metadata": {
        "colab": {
          "base_uri": "https://localhost:8080/"
        },
        "id": "Lun4igShQlf1",
        "outputId": "d7c3d93d-e326-47f7-88ef-0130a15b7c7b"
      },
      "execution_count": null,
      "outputs": [
        {
          "output_type": "stream",
          "name": "stdout",
          "text": [
            "List of all predefine keywords in python:\n",
            "['False', 'None', 'True', 'and', 'as', 'assert', 'async', 'await', 'break', 'class', 'continue', 'def', 'del', 'elif', 'else', 'except', 'finally', 'for', 'from', 'global', 'if', 'import', 'in', 'is', 'lambda', 'nonlocal', 'not', 'or', 'pass', 'raise', 'return', 'try', 'while', 'with', 'yield']\n",
            "\n",
            "Total number of keywords: 35\n"
          ]
        }
      ]
    },
    {
      "cell_type": "markdown",
      "source": [
        "4. Write a program that checks if a given word is a Python keyword"
      ],
      "metadata": {
        "id": "cjBJjbRJS-r0"
      }
    },
    {
      "cell_type": "code",
      "source": [
        "import keyword\n",
        "#take user input\n",
        "word = input(\"enter a word to check if it's a python keyword:\")\n",
        "#check if the word is a python keyword\n",
        "if keyword.iskeyword(word):\n",
        "    print(f\"'{word}' is a python keyword\")\n",
        "else:\n",
        "    print(f\"'{word}' is not a python keyword\")"
      ],
      "metadata": {
        "colab": {
          "base_uri": "https://localhost:8080/"
        },
        "id": "y7o8OxaVTJRZ",
        "outputId": "2ed22bc7-8101-4dc7-956e-56e71d96bff9"
      },
      "execution_count": null,
      "outputs": [
        {
          "output_type": "stream",
          "name": "stdout",
          "text": [
            "enter a word to check if it's a python keyword:else\n",
            "'else' is a python keyword\n"
          ]
        }
      ]
    },
    {
      "cell_type": "markdown",
      "source": [
        "5. Create a list and tuple in Python, and demonstrate how attempting to change an element works differently\n",
        "for each"
      ],
      "metadata": {
        "id": "xgzYLws7fab9"
      }
    },
    {
      "cell_type": "code",
      "source": [
        "# Creating a list and a tuple\n",
        "my_list = [1, 2, 3]\n",
        "my_tuple = (1, 2, 3)\n",
        "\n",
        "# Modifying the list (mutable)\n",
        "print(\"Original list:\", my_list)\n",
        "my_list[1] = 20  # Modifying the second element\n",
        "print(\"Modified list:\", my_list)\n",
        "\n",
        "# Attempting to modify the tuple (immutable)\n",
        "print(\"\\nOriginal tuple:\", my_tuple)\n",
        "\n",
        "try:\n",
        "    my_tuple[1] = 20  # Trying to change the second element\n",
        "except TypeError as e:\n",
        "    print(\"Error:\", e)  # Handling the error\n"
      ],
      "metadata": {
        "colab": {
          "base_uri": "https://localhost:8080/"
        },
        "id": "MYU9PKZFfiaS",
        "outputId": "c209e63b-52e1-4d54-d2ea-b1480ae31c4d"
      },
      "execution_count": null,
      "outputs": [
        {
          "output_type": "stream",
          "name": "stdout",
          "text": [
            "Original list: [1, 2, 3]\n",
            "Modified list: [1, 20, 3]\n",
            "\n",
            "Original tuple: (1, 2, 3)\n",
            "Error: 'tuple' object does not support item assignment\n"
          ]
        }
      ]
    },
    {
      "cell_type": "markdown",
      "source": [
        "6. Write a function to demonstrate the behavior of mutable and immutable arguments"
      ],
      "metadata": {
        "id": "04B8Djnljg6C"
      }
    },
    {
      "cell_type": "code",
      "source": [
        "# Function to demonstrate mutable and immutable arguments\n",
        "def demonstrate_arguments(mutable_arg, immutable_arg):\n",
        "    print(\"Before modification:\")\n",
        "    print(\"Mutable argument:\", mutable_arg)\n",
        "    print(\"Immutable argument:\", immutable_arg)\n",
        "\n",
        "    # Modifying the mutable argument (it will reflect outside the function)\n",
        "    mutable_arg.append(4)\n",
        "\n",
        "    # Trying to modify the immutable argument (this won't affect the original variable)\n",
        "    immutable_arg = 20\n",
        "\n",
        "    print(\"\\nAfter modification:\")\n",
        "    print(\"Mutable argument:\", mutable_arg)\n",
        "    print(\"Immutable argument:\", immutable_arg)\n",
        "\n",
        "# Example usage\n",
        "my_list = [1, 2, 3]  # Mutable argument (list)\n",
        "my_number = 10  # Immutable argument (integer)\n",
        "\n",
        "# Call the function\n",
        "demonstrate_arguments(my_list, my_number)\n",
        "\n",
        "# Check the values outside the function\n",
        "print(\"\\nOutside the function:\")\n",
        "print(\"Original list:\", my_list)  # The list should be modified\n",
        "print(\"Original number:\", my_number)  # The number should remain unchanged\n"
      ],
      "metadata": {
        "colab": {
          "base_uri": "https://localhost:8080/"
        },
        "id": "vKmbVAxij6pr",
        "outputId": "1f42d3e2-f1e8-4373-8fe4-8aea805aa1cd"
      },
      "execution_count": null,
      "outputs": [
        {
          "output_type": "stream",
          "name": "stdout",
          "text": [
            "Before modification:\n",
            "Mutable argument: [1, 2, 3]\n",
            "Immutable argument: 10\n",
            "\n",
            "After modification:\n",
            "Mutable argument: [1, 2, 3, 4]\n",
            "Immutable argument: 20\n",
            "\n",
            "Outside the function:\n",
            "Original list: [1, 2, 3, 4]\n",
            "Original number: 10\n"
          ]
        }
      ]
    },
    {
      "cell_type": "markdown",
      "source": [
        "7.Write a function to demonstrate the behavior of mutable and immutable arguments"
      ],
      "metadata": {
        "id": "XwNjsD114-Uw"
      }
    },
    {
      "cell_type": "code",
      "source": [
        "# demostrate the behavior of mutable and immutable arguments\n",
        "def demonstrate_mutable_immutable(immutable_arg, mutable_arg):\n",
        "    print(\"Before modification:\")\n",
        "    print(f\"Immutable argument (int): {immutable_arg}\")\n",
        "    print(f\"Mutable argument (list): {mutable_arg}\")\n",
        "\n",
        "    # Trying to modify the immutable argument (integer)\n",
        "    immutable_arg += 10\n",
        "\n",
        "    # Trying to modify the mutable argument (list)\n",
        "    mutable_arg.append(100)\n",
        "\n",
        "    print(\"After modification:\")\n",
        "    print(f\"Immutable argument (int): {immutable_arg}\")\n",
        "    print(f\"Mutable argument (list): {mutable_arg}\")\n",
        "\n",
        "# Example usage\n",
        "num = 5  # Immutable (integer)\n",
        "numbers = [1, 2, 3]  # Mutable (list)\n",
        "\n",
        "demonstrate_mutable_immutable(num, numbers)\n",
        "\n",
        "print(\"Outside function:\")\n",
        "print(f\"Immutable argument (int) remains unchanged: {num}\")\n",
        "print(f\"Mutable argument (list) is modified: {numbers}\")"
      ],
      "metadata": {
        "colab": {
          "base_uri": "https://localhost:8080/"
        },
        "id": "oHtaHVjs-MwT",
        "outputId": "e9abf90e-b83c-40d7-d714-7ce0c072fa79"
      },
      "execution_count": null,
      "outputs": [
        {
          "output_type": "stream",
          "name": "stdout",
          "text": [
            "Before modification:\n",
            "Immutable argument (int): 5\n",
            "Mutable argument (list): [1, 2, 3]\n",
            "After modification:\n",
            "Immutable argument (int): 15\n",
            "Mutable argument (list): [1, 2, 3, 100]\n",
            "Outside function:\n",
            "Immutable argument (int) remains unchanged: 5\n",
            "Mutable argument (list) is modified: [1, 2, 3, 100]\n"
          ]
        }
      ]
    },
    {
      "cell_type": "markdown",
      "source": [
        "8. Write a program to demonstrate the use of logical operators."
      ],
      "metadata": {
        "id": "Vl78_5j0_TU-"
      }
    },
    {
      "cell_type": "code",
      "source": [
        "# Program to demonstrate the use of logical operators\n",
        "\n",
        "def logical_operators_demo(a, b):\n",
        "    print(f\"a = {a}, b = {b}\")\n",
        "\n",
        "    # Logical AND\n",
        "    print(f\"a > 0 and b > 0: {a > 0 and b > 0}\")\n",
        "\n",
        "    # Logical OR\n",
        "    print(f\"a > 0 or b > 0: {a > 0 or b > 0}\")\n",
        "\n",
        "    # Logical NOT\n",
        "    print(f\"not (a > 0): {not (a > 0)}\")\n",
        "    print(f\"not (b > 0): {not (b > 0)}\")\n",
        "\n",
        "# Example usage\n",
        "a = 10\n",
        "b = -5\n",
        "logical_operators_demo(a, b)\n"
      ],
      "metadata": {
        "colab": {
          "base_uri": "https://localhost:8080/"
        },
        "id": "e9HWI0QF_a4f",
        "outputId": "c068334c-b4ec-4944-b8fe-0fc5a2a76515"
      },
      "execution_count": null,
      "outputs": [
        {
          "output_type": "stream",
          "name": "stdout",
          "text": [
            "a = 10, b = -5\n",
            "a > 0 and b > 0: False\n",
            "a > 0 or b > 0: True\n",
            "not (a > 0): False\n",
            "not (b > 0): True\n"
          ]
        }
      ]
    },
    {
      "cell_type": "markdown",
      "source": [
        "9. Write a Python program to convert user input from string to integer, float, and boolean types."
      ],
      "metadata": {
        "id": "91BICyjX_n7q"
      }
    },
    {
      "cell_type": "code",
      "source": [
        "# Program to convert user input from string to integer, float, and boolean types\n",
        "\n",
        "def convert_input(user_input):\n",
        "    try:\n",
        "        int_value = int(user_input)\n",
        "        print(f\"Integer conversion: {int_value}\")\n",
        "    except ValueError:\n",
        "        print(\"Invalid integer conversion\")\n",
        "\n",
        "    try:\n",
        "        float_value = float(user_input)\n",
        "        print(f\"Float conversion: {float_value}\")\n",
        "    except ValueError:\n",
        "        print(\"Invalid float conversion\")\n",
        "\n",
        "    bool_value = user_input.lower() in ['true', '1', 'yes', 'on']\n",
        "    print(f\"Boolean conversion: {bool_value}\")\n",
        "\n",
        "# Get user input\n",
        "user_input = input(\"Enter a value: \")\n",
        "convert_input(user_input)\n"
      ],
      "metadata": {
        "id": "4u5xdgSB_vBx"
      },
      "execution_count": null,
      "outputs": []
    },
    {
      "cell_type": "markdown",
      "source": [
        "10. Write code to demonstrate type casting with list elements."
      ],
      "metadata": {
        "id": "gz4TXvup_5PH"
      }
    },
    {
      "cell_type": "code",
      "source": [
        "# Program to demonstrate type casting with list elements\n",
        "def type_cast_list(lst):\n",
        "    print(\"Original list:\", lst)\n",
        "\n",
        "    # Convert elements to integers if possible\n",
        "    int_list = []\n",
        "    for i in lst:\n",
        "        if i.isdigit():\n",
        "            int_list.append(int(i))\n",
        "    print(\"Integers:\", int_list)\n",
        "\n",
        "    # Convert elements to floats if possible\n",
        "    float_list = []\n",
        "    for i in lst:\n",
        "        try:\n",
        "            float_list.append(float(i))\n",
        "        except ValueError:\n",
        "            pass\n",
        "    print(\"Floats:\", float_list)\n",
        "\n",
        "    # Convert all elements to strings\n",
        "    str_list = [str(i) for i in lst]\n",
        "    print(\"Strings:\", str_list)\n",
        "\n",
        "# Example usage\n",
        "type_cast_list(['10', '20.5', '30', '40.8', '50'])"
      ],
      "metadata": {
        "id": "5s-o-rpQABG_",
        "colab": {
          "base_uri": "https://localhost:8080/"
        },
        "outputId": "f6842a73-412d-4119-f7c2-34163de849e0"
      },
      "execution_count": null,
      "outputs": [
        {
          "output_type": "stream",
          "name": "stdout",
          "text": [
            "Original list: ['10', '20.5', '30', '40.8', '50']\n",
            "Integers: [10, 30, 50]\n",
            "Floats: [10.0, 20.5, 30.0, 40.8, 50.0]\n",
            "Strings: ['10', '20.5', '30', '40.8', '50']\n"
          ]
        }
      ]
    },
    {
      "cell_type": "markdown",
      "source": [
        "11. Write a program that checks if a number is positive, negative, or zero."
      ],
      "metadata": {
        "id": "EHYplz9hCK93"
      }
    },
    {
      "cell_type": "code",
      "source": [
        "# Program to check if a number is positive, negative, or zero\n",
        "def check_number(num):\n",
        "    if num > 0:\n",
        "        print(\"The number is positive.\")\n",
        "    elif num < 0:\n",
        "        print(\"The number is negative.\")\n",
        "    else:\n",
        "        print(\"The number is zero.\")\n",
        "\n",
        "# Example usage\n",
        "number = float(input(\"Enter a number: \"))\n",
        "check_number(number)"
      ],
      "metadata": {
        "id": "zkaW-jHSCgg6"
      },
      "execution_count": null,
      "outputs": []
    },
    {
      "cell_type": "markdown",
      "source": [
        "12. Write a for loop to print numbers from 1 to 10."
      ],
      "metadata": {
        "id": "UHssCaGlDpnX"
      }
    },
    {
      "cell_type": "code",
      "source": [
        "# Program to print numbers from 1 to 10 using a for loop\n",
        "\n",
        "for i in range(1, 11):\n",
        "    print(i)"
      ],
      "metadata": {
        "id": "BSoSu8U5Du04"
      },
      "execution_count": null,
      "outputs": []
    },
    {
      "cell_type": "markdown",
      "source": [
        "13. Write a Python program to find the sum of all even numbers between 1 and 50."
      ],
      "metadata": {
        "id": "GBYtHNeeEZep"
      }
    },
    {
      "cell_type": "code",
      "source": [
        "# Sum of even numbers between 1 and 50\n",
        "sum_of_evens = 0\n",
        "for i in range(2, 51, 2):\n",
        "    sum_of_evens += i\n",
        "\n",
        "print(\"The sum of all even numbers between 1 and 50 is:\", sum_of_evens)"
      ],
      "metadata": {
        "id": "bjHDZxyBE3Zi",
        "colab": {
          "base_uri": "https://localhost:8080/"
        },
        "outputId": "0b811823-4e21-4fbe-ed08-081bed2a8ee1"
      },
      "execution_count": null,
      "outputs": [
        {
          "output_type": "stream",
          "name": "stdout",
          "text": [
            "The sum of all even numbers between 1 and 50 is: 650\n"
          ]
        }
      ]
    },
    {
      "cell_type": "markdown",
      "source": [
        "14. Write a program to reverse a string using a while loop."
      ],
      "metadata": {
        "id": "8YV2Pf7gFHDP"
      }
    },
    {
      "cell_type": "code",
      "source": [
        "# Program to reverse a string using a while loop\n",
        "\n",
        "def reverse_string(s):\n",
        "    reversed_str = \"\"\n",
        "    i = len(s) - 1\n",
        "    while i >= 0:\n",
        "        reversed_str += s[i]\n",
        "        i -= 1\n",
        "    return reversed_str\n",
        "\n",
        "# Example usage\n",
        "string = input(\"Enter a string: \")\n",
        "print(\"Reversed string:\", reverse_string(string))"
      ],
      "metadata": {
        "id": "Rqs-MzxpFMvl"
      },
      "execution_count": null,
      "outputs": []
    },
    {
      "cell_type": "markdown",
      "source": [
        "15. Write a Python program to calculate the factorial of a number provided by the user using a while loop."
      ],
      "metadata": {
        "id": "6LEMaHW0FeWq"
      }
    },
    {
      "cell_type": "code",
      "source": [
        "# Program to calculate the factorial of a number using a while loop\n",
        "\n",
        "def factorial(n):\n",
        "    result = 1\n",
        "    while n > 1:\n",
        "        result *= n\n",
        "        n -= 1\n",
        "    return result\n",
        "\n",
        "# Example usage\n",
        "num = int(input(\"Enter a number: \"))\n",
        "print(\"Factorial:\", factorial(num))"
      ],
      "metadata": {
        "id": "R-XHgLFwFkTf"
      },
      "execution_count": null,
      "outputs": []
    }
  ]
}